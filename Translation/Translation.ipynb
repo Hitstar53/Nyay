{
 "cells": [
  {
   "cell_type": "code",
   "execution_count": 1,
   "id": "7ca69c16-851b-45e6-9093-55882d024e16",
   "metadata": {},
   "outputs": [],
   "source": [
    "from pdf2image import convert_from_path\n",
    "from deep_translator import GoogleTranslator\n",
    "from pypdf import PdfMerger\n",
    "import pytesseract\n",
    "import aspose.words as aw"
   ]
  },
  {
   "cell_type": "code",
   "execution_count": 3,
   "id": "46996a3a-955b-4ed8-a2dd-bd0b1d434261",
   "metadata": {},
   "outputs": [],
   "source": [
    "pytesseract.pytesseract.tesseract_cmd = r'C:\\Users\\Arshad Mapari\\AppData\\Local\\Programs\\Tesseract-OCR\\tesseract.exe'\n",
    "images = convert_from_path(\"Docs/LegalDoc.pdf\", poppler_path = r'D:\\Poppler\\poppler-23.08.0\\Library\\bin')"
   ]
  },
  {
   "cell_type": "code",
   "execution_count": 4,
   "id": "bf92f797-0093-4f3c-aa3b-a7b8ec7ff139",
   "metadata": {},
   "outputs": [],
   "source": [
    "i = 1\n",
    "for image in images:\n",
    "    text = pytesseract.image_to_string(image)\n",
    "    translated_text = GoogleTranslator(source='auto', target='mr').translate(text)\n",
    "    with open(\"translated.txt\", \"w\", encoding='utf-8') as file:\n",
    "        file.write(translated_text)\n",
    "        file.close()\n",
    "        doc = aw.Document(\"translated.txt\")\n",
    "        doc.save(\"TranslatedLegalDoc\"+str(i)+\".pdf\", aw.SaveFormat.PDF)\n",
    "    i += 1\n",
    "file.close()"
   ]
  },
  {
   "cell_type": "code",
   "execution_count": 5,
   "id": "902e40bd",
   "metadata": {},
   "outputs": [],
   "source": [
    "j = 1\n",
    "merger = PdfMerger()\n",
    "while(j < i):\n",
    "    merger.append(\"TranslatedLegalDoc\"+str(j)+\".pdf\")\n",
    "    j += 1\n",
    "merger.write(\"TranslatedLegalDoc.pdf\")\n",
    "merger.close()"
   ]
  }
 ],
 "metadata": {
  "kernelspec": {
   "display_name": "Python 3 (ipykernel)",
   "language": "python",
   "name": "python3"
  },
  "language_info": {
   "codemirror_mode": {
    "name": "ipython",
    "version": 3
   },
   "file_extension": ".py",
   "mimetype": "text/x-python",
   "name": "python",
   "nbconvert_exporter": "python",
   "pygments_lexer": "ipython3",
   "version": "3.10.9"
  }
 },
 "nbformat": 4,
 "nbformat_minor": 5
}
