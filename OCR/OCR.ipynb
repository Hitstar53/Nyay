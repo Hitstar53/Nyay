{
 "cells": [
  {
   "cell_type": "code",
   "execution_count": 48,
   "id": "863d0a2f",
   "metadata": {},
   "outputs": [],
   "source": [
    "import pytesseract\n",
    "import cv2"
   ]
  },
  {
   "cell_type": "code",
   "execution_count": 49,
   "id": "7bdc047d",
   "metadata": {},
   "outputs": [],
   "source": [
    "pytesseract.pytesseract.tesseract_cmd = r'C:\\Users\\Arshad Mapari\\AppData\\Local\\Programs\\Tesseract-OCR\\tesseract.exe'"
   ]
  },
  {
   "cell_type": "code",
   "execution_count": 50,
   "id": "1c6d0ef4",
   "metadata": {},
   "outputs": [],
   "source": [
    "image = cv2.imread('AadhaarCard.jpg') # Aadhaar Card Pic"
   ]
  },
  {
   "cell_type": "code",
   "execution_count": 51,
   "id": "7e4f4e4d",
   "metadata": {},
   "outputs": [],
   "source": [
    "text = pytesseract.image_to_string(image)"
   ]
  },
  {
   "cell_type": "code",
   "execution_count": 52,
   "id": "3345a406",
   "metadata": {},
   "outputs": [
    {
     "data": {
      "text/plain": [
       "\"'GAWV.  erat UTA HTT ¥  Government of India  Unique Identification Authority of India alenft Hata / Enrollment No.: 2006/70096/12420  To  IRIE EAA Arare Arshad Husenmiya Mapari S/O: Husenmiya Mapari, C/15 gurumukh apartment, birla college road, birla college, kalyan west,  VTC: Kalyan,  PO: Kalyan D.c.,  Sub District: Kalyan, District: Thane, State: Maharashtra,  PIN Code: 421301,  Mobile: 9004298622  MF487938390F |  48793839  TTA HI HATH / Your Aadhaar No. :  3610 1981 5147  Arshad Husenmiya Mapari ae artra/ DOB : 06/12/2003 Fes / Male  Issue Date : 14/02/2013  3610 1981 5147 Ale’ 3, Alsi HOA \""
      ]
     },
     "execution_count": 52,
     "metadata": {},
     "output_type": "execute_result"
    }
   ],
   "source": [
    "text.replace(\"\\n\", \" \")"
   ]
  },
  {
   "cell_type": "code",
   "execution_count": 53,
   "id": "0048a8cc",
   "metadata": {},
   "outputs": [
    {
     "name": "stdout",
     "output_type": "stream",
     "text": [
      "Verified\n"
     ]
    }
   ],
   "source": [
    "name = \"Arshad Husenmiya Mapari\" or \"Arshad Mapari\"\n",
    "if name or name.upper() in text:\n",
    "    print(\"Verified\")\n",
    "else:\n",
    "    print(\"Not Verified\")"
   ]
  },
  {
   "cell_type": "code",
   "execution_count": 54,
   "id": "2a029573",
   "metadata": {},
   "outputs": [],
   "source": [
    "image = cv2.imread('BarCouncilID.jpg') # Bar Council ID Pic"
   ]
  },
  {
   "cell_type": "code",
   "execution_count": 55,
   "id": "84eed9b9",
   "metadata": {},
   "outputs": [],
   "source": [
    "text = pytesseract.image_to_string(image)"
   ]
  },
  {
   "cell_type": "code",
   "execution_count": 56,
   "id": "6f0b7aeb",
   "metadata": {},
   "outputs": [
    {
     "data": {
      "text/plain": [
       "'BAR COUNCIL OF DELHI  (Statutory Body Under Advocates Act,1961)  H.O.: 2/6, Siri Fort Inst. Area, Khel Gaon Marg, New Delhi-49, Ph. : 26498356/5196 Website : delhibarcouncil.com, E-mail : barcouncilofdelhi@rediffmail.com  PROVISIONAL IDENTITY CARD S.No.5994/P/347..... Valid Upto.92/08/2019,  _.... PRANOY KUMAR,  ee ADVOCATE. .........  Enrolment No... D/2637/2017,...00>.. ws... “aa 3  Maninder Singh K.K. Manan  Chairman Member, Special Committee '"
      ]
     },
     "execution_count": 56,
     "metadata": {},
     "output_type": "execute_result"
    }
   ],
   "source": [
    "text.replace(\"\\n\", \" \")"
   ]
  },
  {
   "cell_type": "code",
   "execution_count": 57,
   "id": "f282919a",
   "metadata": {},
   "outputs": [],
   "source": [
    "name = \"Pranoy Kumar\""
   ]
  },
  {
   "cell_type": "code",
   "execution_count": 58,
   "id": "b88f2fa1",
   "metadata": {},
   "outputs": [
    {
     "name": "stdout",
     "output_type": "stream",
     "text": [
      "Verified\n"
     ]
    }
   ],
   "source": [
    "if name or name.upper() in text:\n",
    "    print(\"Verified\")\n",
    "else:\n",
    "    print(\"Not Verified\")"
   ]
  }
 ],
 "metadata": {
  "kernelspec": {
   "display_name": "Python 3 (ipykernel)",
   "language": "python",
   "name": "python3"
  },
  "language_info": {
   "codemirror_mode": {
    "name": "ipython",
    "version": 3
   },
   "file_extension": ".py",
   "mimetype": "text/x-python",
   "name": "python",
   "nbconvert_exporter": "python",
   "pygments_lexer": "ipython3",
   "version": "3.10.9"
  }
 },
 "nbformat": 4,
 "nbformat_minor": 5
}
